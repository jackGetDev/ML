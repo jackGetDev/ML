{
 "cells": [
  {
   "cell_type": "code",
   "execution_count": 2,
   "metadata": {},
   "outputs": [
    {
     "name": "stdout",
     "output_type": "stream",
     "text": [
      "Before save: [2 0 1 1 1 1 2 1 0 0 2 1 0 2 2 0 1 1 2 0 0 2 2 0 2 1 1 1 0 0 2 0 0 0 2 0 0\n",
      " 1 0 2 0 2 1 0 1]\n",
      "After save: [2 0 1 1 1 1 2 1 0 0 2 1 0 2 2 0 1 1 2 0 0 2 2 0 2 1 1 1 0 0 2 0 0 0 2 0 0\n",
      " 1 0 2 0 2 1 0 1]\n"
     ]
    }
   ],
   "source": [
    "\"\"\"\n",
    "ML\n",
    "1. Load Library : Depedencies\n",
    "2. Load Dataset : iris, est ...\n",
    "3. Split the dataset into train and test\n",
    "4. Train model : KNN, K-Means, est ...\n",
    "5. Prediction\n",
    "Save and Load:\n",
    "1. import joblib\n",
    "2. joblib.dump -> Save\n",
    "3. joblib.load -> Load\n",
    "\"\"\"\n",
    "#Load Library\n",
    "import numpy as np\n",
    "# Load dataset \n",
    "from sklearn.datasets import load_iris \n",
    "iris = load_iris() \n",
    "X = iris.data \n",
    "y = iris.target \n",
    "\n",
    "\n",
    "# Split the dataset into train and test\n",
    "from sklearn.model_selection import train_test_split\n",
    "X_train, X_test, y_train, y_test =train_test_split(X, y, test_size = 0.3, random_state = 2020) \n",
    "\n",
    "# import KNN model\n",
    "from sklearn.neighbors import KNeighborsClassifier as KNN \n",
    "knn = KNN(n_neighbors = 5) \n",
    "\n",
    "# train model \n",
    "knn.fit(X_train, y_train) \n",
    "# Prediction\n",
    "print(\"Before save:\",knn.predict(X_test))\n",
    "from sklearn.externals import joblib \n",
    "\n",
    "# Save the model\n",
    "joblib.dump(knn, 'my_model_knn.pkl') \n",
    "\n",
    "# Load the model from the file \n",
    "knn_from_joblib = joblib.load('my_model_knn.pkl') \n",
    "\n",
    "# Use the loaded model to make predictions \n",
    "print(\"After save:\",knn_from_joblib.predict(X_test))"
   ]
  },
  {
   "cell_type": "code",
   "execution_count": null,
   "metadata": {},
   "outputs": [],
   "source": []
  }
 ],
 "metadata": {
  "kernelspec": {
   "display_name": "Python 3",
   "language": "python",
   "name": "python3"
  },
  "language_info": {
   "codemirror_mode": {
    "name": "ipython",
    "version": 3
   },
   "file_extension": ".py",
   "mimetype": "text/x-python",
   "name": "python",
   "nbconvert_exporter": "python",
   "pygments_lexer": "ipython3",
   "version": "3.7.6"
  }
 },
 "nbformat": 4,
 "nbformat_minor": 4
}
